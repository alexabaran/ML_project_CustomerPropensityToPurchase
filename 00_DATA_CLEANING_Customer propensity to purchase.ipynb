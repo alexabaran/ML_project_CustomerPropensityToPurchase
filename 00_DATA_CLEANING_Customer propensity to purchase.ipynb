{
 "cells": [
  {
   "cell_type": "markdown",
   "metadata": {},
   "source": [
    "### 6. Zakupoholicy"
   ]
  },
  {
   "cell_type": "markdown",
   "metadata": {},
   "source": [
    "Dane: https://www.kaggle.com/datasets/benpowis/customer-propensity-to-purchase-data\n",
    "\n",
    "\n",
    "Cel: analiza czy dany klient wykona u nas zakupy czy nie\n",
    "\n",
    "\n",
    "Stakeholder: właściciel sklepu internetowego starający się zminimalizować ryzyko\n",
    "występowania porzuconego koszyka"
   ]
  },
  {
   "cell_type": "markdown",
   "metadata": {},
   "source": [
    "### CZYSZCZENIE ORAZ ROZDZIELENIE DANYCH"
   ]
  },
  {
   "cell_type": "code",
   "execution_count": 1,
   "metadata": {},
   "outputs": [],
   "source": [
    "import pandas as pd "
   ]
  },
  {
   "cell_type": "code",
   "execution_count": 2,
   "metadata": {},
   "outputs": [],
   "source": [
    "df_train = pd.read_csv('training_sample.csv')"
   ]
  },
  {
   "cell_type": "code",
   "execution_count": 3,
   "metadata": {},
   "outputs": [
    {
     "data": {
      "text/plain": [
       "(455401, 25)"
      ]
     },
     "execution_count": 3,
     "metadata": {},
     "output_type": "execute_result"
    }
   ],
   "source": [
    "df_train.shape"
   ]
  },
  {
   "cell_type": "code",
   "execution_count": 4,
   "metadata": {},
   "outputs": [
    {
     "data": {
      "text/plain": [
       "19093"
      ]
     },
     "execution_count": 4,
     "metadata": {},
     "output_type": "execute_result"
    }
   ],
   "source": [
    "df_train[\"ordered\"].sum()"
   ]
  },
  {
   "cell_type": "code",
   "execution_count": 5,
   "metadata": {},
   "outputs": [],
   "source": [
    "column_mapping = {\n",
    "    'UserID': 'ID_uzytkownika',\n",
    "    'basket_icon_click': 'klik_ikony_koszyka',\n",
    "    'basket_add_list': 'dodanie_do_koszyka_z_listy',\n",
    "    'basket_add_detail': 'dodanie_do_koszyka_z_detali',\n",
    "    'sort_by': 'sortowanie_produktu',\n",
    "    'image_picker': 'wybor_obrazu',\n",
    "    'account_page_click': 'klik_na_strone_konta',\n",
    "    'promo_banner_click': 'klik_na_baner_promo',\n",
    "    'detail_wishlist_add': 'dodanie_do_listy_zyczen_z_detali',\n",
    "    'list_size_dropdown': 'rozwijana_lista_produktu',\n",
    "    'closed_minibasket_click': 'zamkniecie_mini_koszyka',\n",
    "    'checked_delivery_detail': 'sprawdzenie_info_dostawy_produkt',\n",
    "    'checked_returns_detail': 'sprawdzenie_info_zwrotu',\n",
    "    'sign_in': 'logowanie',\n",
    "    'saw_checkout': 'wyswietlenie_realizacji_zamowienia',\n",
    "    'saw_sizecharts': 'wyswietlenie_tabeli_rozmiarow',\n",
    "    'saw_delivery': 'wyswietlenie_info_o_dostawie_FAQ',\n",
    "    'saw_account_upgrade': 'wyswietlenie_opcji_upgrade_konta',\n",
    "    'saw_homepage': 'wyswietlenie_strony_glownej',\n",
    "    'device_mobile': 'urzadzenie_mobilne', \n",
    "    'device_computer': 'komputer', \n",
    "    'device_tablet': 'tablet',\n",
    "    'returning_user': 'powracajcy_klient', \n",
    "    'loc_uk': 'lokalizacja_uk',\n",
    "    'ordered': 'zlozone_zamowienie'\n",
    "}\n",
    "\n",
    "\n",
    "# zmiana nazw kolumn\n",
    "df_train = df_train.rename(columns=column_mapping)"
   ]
  },
  {
   "cell_type": "code",
   "execution_count": 6,
   "metadata": {},
   "outputs": [],
   "source": [
    "# zapis do CSV\n",
    "df_train.to_csv('training_sample_pl.csv', index=False)"
   ]
  },
  {
   "cell_type": "code",
   "execution_count": 7,
   "metadata": {},
   "outputs": [
    {
     "data": {
      "text/plain": [
       "Index(['ID_uzytkownika', 'klik_ikony_koszyka', 'dodanie_do_koszyka_z_listy',\n",
       "       'dodanie_do_koszyka_z_detali', 'sortowanie_produktu', 'wybor_obrazu',\n",
       "       'klik_na_strone_konta', 'klik_na_baner_promo',\n",
       "       'dodanie_do_listy_zyczen_z_detali', 'rozwijana_lista_produktu',\n",
       "       'zamkniecie_mini_koszyka', 'sprawdzenie_info_dostawy_produkt',\n",
       "       'sprawdzenie_info_zwrotu', 'logowanie',\n",
       "       'wyswietlenie_realizacji_zamowienia', 'wyswietlenie_tabeli_rozmiarow',\n",
       "       'wyswietlenie_info_o_dostawie_FAQ', 'wyswietlenie_opcji_upgrade_konta',\n",
       "       'wyswietlenie_strony_glownej', 'urzadzenie_mobilne', 'komputer',\n",
       "       'tablet', 'powracajcy_klient', 'lokalizacja_uk', 'zlozone_zamowienie'],\n",
       "      dtype='object')"
      ]
     },
     "execution_count": 7,
     "metadata": {},
     "output_type": "execute_result"
    }
   ],
   "source": [
    "df_train.columns"
   ]
  },
  {
   "cell_type": "code",
   "execution_count": 8,
   "metadata": {},
   "outputs": [],
   "source": [
    "# lista column do sprawdzenia z zerami\n",
    "columns_to_check = ['klik_ikony_koszyka', 'dodanie_do_koszyka_z_listy',\n",
    "       'dodanie_do_koszyka_z_detali', 'sortowanie_produktu', 'wybor_obrazu',\n",
    "       'klik_na_strone_konta', 'klik_na_baner_promo',\n",
    "       'dodanie_do_listy_zyczen_z_detali', 'rozwijana_lista_produktu',\n",
    "       'zamkniecie_mini_koszyka', 'sprawdzenie_info_dostawy_produkt',\n",
    "       'sprawdzenie_info_zwrotu', 'logowanie',\n",
    "       'wyswietlenie_realizacji_zamowienia', 'wyswietlenie_tabeli_rozmiarow',\n",
    "       'wyswietlenie_info_o_dostawie_FAQ', 'wyswietlenie_opcji_upgrade_konta',\n",
    "       'wyswietlenie_strony_glownej'] \n",
    "\n",
    "# 'ID_uzytkownika','urzadzenie_mobilne', 'komputer', 'tablet', 'powracajcy_klient', 'lokalizacja_uk', 'zlozone_zamowienie' - nie jest opisem akcji - jesli = 0 - usuwamy\n",
    "\n",
    "# filtrowana baza danych gdzie wymienione kolumny = 0\n",
    "df_train_clean = df_train[~(df_train[columns_to_check] == 0).all(axis=1)]\n",
    "\n"
   ]
  },
  {
   "cell_type": "code",
   "execution_count": 9,
   "metadata": {},
   "outputs": [
    {
     "data": {
      "text/plain": [
       "(220061, 25)"
      ]
     },
     "execution_count": 9,
     "metadata": {},
     "output_type": "execute_result"
    }
   ],
   "source": [
    "df_train_clean.shape"
   ]
  },
  {
   "cell_type": "code",
   "execution_count": 10,
   "metadata": {},
   "outputs": [
    {
     "data": {
      "text/plain": [
       "19093"
      ]
     },
     "execution_count": 10,
     "metadata": {},
     "output_type": "execute_result"
    }
   ],
   "source": [
    "df_train_clean[\"zlozone_zamowienie\"].sum()"
   ]
  },
  {
   "cell_type": "code",
   "execution_count": 11,
   "metadata": {},
   "outputs": [],
   "source": [
    "df_train_clean = df_train_clean.sort_values(by='zlozone_zamowienie', ascending= False)"
   ]
  },
  {
   "cell_type": "code",
   "execution_count": 12,
   "metadata": {},
   "outputs": [],
   "source": [
    "df_train_clean = df_train_clean.reset_index(drop=True)"
   ]
  },
  {
   "cell_type": "code",
   "execution_count": 13,
   "metadata": {},
   "outputs": [],
   "source": [
    "# lista imion + wydzielenie zbioru testowego\n",
    "names = ['Ada', 'Darek', 'Grzesiek', 'Ola', 'test']\n",
    "no_of_orders = df_train_clean[\"zlozone_zamowienie\"].sum()\n",
    "\n",
    "\n",
    "# funkcja wyboru imiona\n",
    "def get_name(index):\n",
    "    return names[index % len(names)]\n",
    "\n",
    "# dodajemy nowa kolumne - ordered = 1 - wszyscy (z wydzieleniem zbioru testowego), ordered = 0 - po kolei imiona\n",
    "# df_train_clean['kto'] = df_train_clean.apply(lambda row: 'test' if row['zlozone_zamowienie'] == 1 and row < orders * 0.2 else get_name(row.name), axis=1)\n",
    "\n",
    "df_train_clean['kto'] = df_train_clean.apply(lambda row: get_name(row.name) if row['zlozone_zamowienie'] == 0 else ('test' if row.name < no_of_orders * 0.2 else 'wszyscy'), axis=1)\n"
   ]
  },
  {
   "cell_type": "code",
   "execution_count": 14,
   "metadata": {},
   "outputs": [
    {
     "data": {
      "text/plain": [
       "kto\n",
       "test        44013\n",
       "Ola         40194\n",
       "Ada         40194\n",
       "Darek       40193\n",
       "Grzesiek    40193\n",
       "wszyscy     15274\n",
       "Name: count, dtype: int64"
      ]
     },
     "execution_count": 14,
     "metadata": {},
     "output_type": "execute_result"
    }
   ],
   "source": [
    "df_train_clean['kto'].value_counts()"
   ]
  },
  {
   "cell_type": "code",
   "execution_count": 15,
   "metadata": {},
   "outputs": [
    {
     "name": "stdout",
     "output_type": "stream",
     "text": [
      "odsetek zamówień w całości df_train_clean 0.0867623068149286\n",
      "odsetek zamówień w test df_train_clean 0.08676981800831572\n"
     ]
    }
   ],
   "source": [
    "# Sprawdzamy proporcje zamówień w całym zbiorze df_train_clean oraz w zbiorze wydzilonym do testów\n",
    "\n",
    "orders_to_total_all = df_train_clean['zlozone_zamowienie'].sum() / df_train_clean['zlozone_zamowienie'].count()\n",
    "orders_to_total_test = df_train_clean['zlozone_zamowienie'][df_train_clean['kto'] == 'test'].sum() / df_train_clean['zlozone_zamowienie'][df_train_clean['kto'] == 'test'].count()\n",
    "\n",
    "print(f'odsetek zamówień w całości df_train_clean {orders_to_total_all}')\n",
    "print(f'odsetek zamówień w test df_train_clean {orders_to_total_test}')"
   ]
  },
  {
   "cell_type": "code",
   "execution_count": 16,
   "metadata": {},
   "outputs": [],
   "source": [
    "# zapis do CSV\n",
    "df_train_clean.to_csv('training_sample_pl_clean.csv', index=False)"
   ]
  },
  {
   "cell_type": "code",
   "execution_count": 17,
   "metadata": {},
   "outputs": [],
   "source": [
    "# dodatkowo!!!\n",
    "# stworzenie bazy danych dla konkretnej osoby - wystarczy zmienic swoje imie\n",
    "\n",
    "df_train_clean_ola = df_train_clean[df_train_clean['kto'].isin(['wszyscy', 'Ola'])]"
   ]
  },
  {
   "cell_type": "code",
   "execution_count": 18,
   "metadata": {},
   "outputs": [
    {
     "data": {
      "text/plain": [
       "kto\n",
       "Ola        40194\n",
       "wszyscy    15274\n",
       "Name: count, dtype: int64"
      ]
     },
     "execution_count": 18,
     "metadata": {},
     "output_type": "execute_result"
    }
   ],
   "source": [
    "df_train_clean_ola['kto'].value_counts()"
   ]
  },
  {
   "cell_type": "code",
   "execution_count": 19,
   "metadata": {},
   "outputs": [],
   "source": [
    "# zapis do CSV\n",
    "df_train_clean_ola.to_csv('training_sample_pl_clean_ola.csv', index=False)"
   ]
  },
  {
   "cell_type": "code",
   "execution_count": 20,
   "metadata": {},
   "outputs": [],
   "source": [
    "# dodatkowo!!!\n",
    "# stworzenie bazy danych dla konkretnej osoby - wystarczy zmienic swoje imie\n",
    "\n",
    "df_test = df_train_clean[df_train_clean['kto'].isin(['test'])]"
   ]
  },
  {
   "cell_type": "code",
   "execution_count": 21,
   "metadata": {},
   "outputs": [],
   "source": [
    "# zapis do CSV\n",
    "df_test.to_csv('test_sample_pl.csv', index=False)"
   ]
  },
  {
   "cell_type": "code",
   "execution_count": 22,
   "metadata": {},
   "outputs": [
    {
     "data": {
      "text/plain": [
       "kto\n",
       "test    44013\n",
       "Name: count, dtype: int64"
      ]
     },
     "execution_count": 22,
     "metadata": {},
     "output_type": "execute_result"
    }
   ],
   "source": [
    "df_test['kto'].value_counts()"
   ]
  }
 ],
 "metadata": {
  "kernelspec": {
   "display_name": "infoshare_virtual_env",
   "language": "python",
   "name": "python3"
  },
  "language_info": {
   "codemirror_mode": {
    "name": "ipython",
    "version": 3
   },
   "file_extension": ".py",
   "mimetype": "text/x-python",
   "name": "python",
   "nbconvert_exporter": "python",
   "pygments_lexer": "ipython3",
   "version": "3.12.1"
  }
 },
 "nbformat": 4,
 "nbformat_minor": 2
}
